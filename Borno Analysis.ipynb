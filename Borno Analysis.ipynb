{
 "cells": [
  {
   "cell_type": "code",
   "execution_count": 1,
   "metadata": {
    "collapsed": true
   },
   "outputs": [],
   "source": [
    "import pandas as pd"
   ]
  },
  {
   "cell_type": "code",
   "execution_count": 47,
   "metadata": {
    "collapsed": false
   },
   "outputs": [],
   "source": [
    "df = pd.read_csv('acled.csv')"
   ]
  },
  {
   "cell_type": "code",
   "execution_count": 5,
   "metadata": {
    "collapsed": false
   },
   "outputs": [
    {
     "data": {
      "text/html": [
       "<div>\n",
       "<table border=\"1\" class=\"dataframe\">\n",
       "  <thead>\n",
       "    <tr style=\"text-align: right;\">\n",
       "      <th></th>\n",
       "      <th>GWNO</th>\n",
       "      <th>EVENT_ID_CNTY</th>\n",
       "      <th>EVENT_ID_NO_CNTY</th>\n",
       "      <th>EVENT_DATE</th>\n",
       "      <th>YEAR</th>\n",
       "      <th>TIME_PRECISION</th>\n",
       "      <th>EVENT_TYPE</th>\n",
       "      <th>ACTOR1</th>\n",
       "      <th>ALLY_ACTOR_1</th>\n",
       "      <th>INTER1</th>\n",
       "      <th>...</th>\n",
       "      <th>ADMIN1</th>\n",
       "      <th>ADMIN2</th>\n",
       "      <th>ADMIN3</th>\n",
       "      <th>LOCATION</th>\n",
       "      <th>LATITUDE</th>\n",
       "      <th>LONGITUDE</th>\n",
       "      <th>GEO_PRECISION</th>\n",
       "      <th>SOURCE</th>\n",
       "      <th>NOTES</th>\n",
       "      <th>FATALITIES</th>\n",
       "    </tr>\n",
       "  </thead>\n",
       "  <tbody>\n",
       "    <tr>\n",
       "      <th>0</th>\n",
       "      <td>615</td>\n",
       "      <td>8701RTA</td>\n",
       "      <td>NaN</td>\n",
       "      <td>31/01/2011</td>\n",
       "      <td>2011</td>\n",
       "      <td>1</td>\n",
       "      <td>Remote violence</td>\n",
       "      <td>Military Forces of Algeria (1999-)</td>\n",
       "      <td>NaN</td>\n",
       "      <td>1</td>\n",
       "      <td>...</td>\n",
       "      <td>Tebessa</td>\n",
       "      <td>Bir El Ater</td>\n",
       "      <td>NaN</td>\n",
       "      <td>Bir El-Ater</td>\n",
       "      <td>34.74488</td>\n",
       "      <td>8.06024</td>\n",
       "      <td>2</td>\n",
       "      <td>Tout sur L'Algerie</td>\n",
       "      <td>Two soldiers were seriously wounded by the exp...</td>\n",
       "      <td>0</td>\n",
       "    </tr>\n",
       "    <tr>\n",
       "      <th>1</th>\n",
       "      <td>615</td>\n",
       "      <td>8702RTA</td>\n",
       "      <td>NaN</td>\n",
       "      <td>9/2/11</td>\n",
       "      <td>2011</td>\n",
       "      <td>1</td>\n",
       "      <td>Remote violence</td>\n",
       "      <td>Unidentified Armed Group (Algeria)</td>\n",
       "      <td>NaN</td>\n",
       "      <td>3</td>\n",
       "      <td>...</td>\n",
       "      <td>Djelfa</td>\n",
       "      <td>Messaad</td>\n",
       "      <td>NaN</td>\n",
       "      <td>Messaad</td>\n",
       "      <td>34.15429</td>\n",
       "      <td>3.50309</td>\n",
       "      <td>1</td>\n",
       "      <td>Xinhua General News Service; Agence France Presse</td>\n",
       "      <td>A total of five people were killed when a�bomb...</td>\n",
       "      <td>5</td>\n",
       "    </tr>\n",
       "    <tr>\n",
       "      <th>2</th>\n",
       "      <td>615</td>\n",
       "      <td>14606RTA</td>\n",
       "      <td>NaN</td>\n",
       "      <td>5/7/15</td>\n",
       "      <td>2015</td>\n",
       "      <td>1</td>\n",
       "      <td>Remote violence</td>\n",
       "      <td>Unidentified Armed Group (Algeria)</td>\n",
       "      <td>NaN</td>\n",
       "      <td>3</td>\n",
       "      <td>...</td>\n",
       "      <td>Sidi Bel Abbes</td>\n",
       "      <td>Sidi Bel Abbes</td>\n",
       "      <td>NaN</td>\n",
       "      <td>Sidi Bel Abbes</td>\n",
       "      <td>35.1939</td>\n",
       "      <td>-0.6414</td>\n",
       "      <td>1</td>\n",
       "      <td>Tunisie Numerique; Menastream</td>\n",
       "      <td>Three civilians were injured after a landmine ...</td>\n",
       "      <td>0</td>\n",
       "    </tr>\n",
       "    <tr>\n",
       "      <th>3</th>\n",
       "      <td>615</td>\n",
       "      <td>14607RTA</td>\n",
       "      <td>NaN</td>\n",
       "      <td>19/07/2015</td>\n",
       "      <td>2015</td>\n",
       "      <td>1</td>\n",
       "      <td>Battle-No change of territory</td>\n",
       "      <td>AQIM: Al Qaeda in the Islamic Maghreb</td>\n",
       "      <td>NaN</td>\n",
       "      <td>2</td>\n",
       "      <td>...</td>\n",
       "      <td>Ain Defla</td>\n",
       "      <td>Bordj Emir Khaled</td>\n",
       "      <td>NaN</td>\n",
       "      <td>Djebel Louh</td>\n",
       "      <td>36.01065</td>\n",
       "      <td>2.36612</td>\n",
       "      <td>1</td>\n",
       "      <td>Menastream; Huffington Post</td>\n",
       "      <td>Sixteen members of AQIM were killed during a m...</td>\n",
       "      <td>16</td>\n",
       "    </tr>\n",
       "    <tr>\n",
       "      <th>4</th>\n",
       "      <td>615</td>\n",
       "      <td>14608RTA</td>\n",
       "      <td>NaN</td>\n",
       "      <td>3/8/15</td>\n",
       "      <td>2015</td>\n",
       "      <td>1</td>\n",
       "      <td>Battle-No change of territory</td>\n",
       "      <td>Unidentified Armed Group (Algeria)</td>\n",
       "      <td>NaN</td>\n",
       "      <td>3</td>\n",
       "      <td>...</td>\n",
       "      <td>Bouira</td>\n",
       "      <td>Bouira</td>\n",
       "      <td>NaN</td>\n",
       "      <td>Bouira</td>\n",
       "      <td>36.38</td>\n",
       "      <td>3.9014</td>\n",
       "      <td>2</td>\n",
       "      <td>Tout sur l'Algerie; Menastream</td>\n",
       "      <td>An armed group attacked a station of the Genda...</td>\n",
       "      <td>0</td>\n",
       "    </tr>\n",
       "  </tbody>\n",
       "</table>\n",
       "<p>5 rows × 25 columns</p>\n",
       "</div>"
      ],
      "text/plain": [
       "   GWNO EVENT_ID_CNTY  EVENT_ID_NO_CNTY  EVENT_DATE  YEAR  TIME_PRECISION  \\\n",
       "0   615       8701RTA               NaN  31/01/2011  2011               1   \n",
       "1   615       8702RTA               NaN      9/2/11  2011               1   \n",
       "2   615      14606RTA               NaN      5/7/15  2015               1   \n",
       "3   615      14607RTA               NaN  19/07/2015  2015               1   \n",
       "4   615      14608RTA               NaN      3/8/15  2015               1   \n",
       "\n",
       "                      EVENT_TYPE                                 ACTOR1  \\\n",
       "0                Remote violence     Military Forces of Algeria (1999-)   \n",
       "1                Remote violence     Unidentified Armed Group (Algeria)   \n",
       "2                Remote violence     Unidentified Armed Group (Algeria)   \n",
       "3  Battle-No change of territory  AQIM: Al Qaeda in the Islamic Maghreb   \n",
       "4  Battle-No change of territory     Unidentified Armed Group (Algeria)   \n",
       "\n",
       "  ALLY_ACTOR_1  INTER1    ...              ADMIN1             ADMIN2  ADMIN3  \\\n",
       "0          NaN       1    ...             Tebessa        Bir El Ater     NaN   \n",
       "1          NaN       3    ...              Djelfa            Messaad     NaN   \n",
       "2          NaN       3    ...      Sidi Bel Abbes     Sidi Bel Abbes     NaN   \n",
       "3          NaN       2    ...           Ain Defla  Bordj Emir Khaled     NaN   \n",
       "4          NaN       3    ...              Bouira             Bouira     NaN   \n",
       "\n",
       "         LOCATION  LATITUDE LONGITUDE GEO_PRECISION  \\\n",
       "0     Bir El-Ater  34.74488   8.06024             2   \n",
       "1         Messaad  34.15429   3.50309             1   \n",
       "2  Sidi Bel Abbes   35.1939   -0.6414             1   \n",
       "3     Djebel Louh  36.01065   2.36612             1   \n",
       "4          Bouira     36.38    3.9014             2   \n",
       "\n",
       "                                              SOURCE  \\\n",
       "0                                 Tout sur L'Algerie   \n",
       "1  Xinhua General News Service; Agence France Presse   \n",
       "2                      Tunisie Numerique; Menastream   \n",
       "3                        Menastream; Huffington Post   \n",
       "4                     Tout sur l'Algerie; Menastream   \n",
       "\n",
       "                                               NOTES FATALITIES  \n",
       "0  Two soldiers were seriously wounded by the exp...          0  \n",
       "1  A total of five people were killed when a�bomb...          5  \n",
       "2  Three civilians were injured after a landmine ...          0  \n",
       "3  Sixteen members of AQIM were killed during a m...         16  \n",
       "4  An armed group attacked a station of the Genda...          0  \n",
       "\n",
       "[5 rows x 25 columns]"
      ]
     },
     "execution_count": 5,
     "metadata": {},
     "output_type": "execute_result"
    }
   ],
   "source": [
    "df.head()"
   ]
  },
  {
   "cell_type": "code",
   "execution_count": 6,
   "metadata": {
    "collapsed": false
   },
   "outputs": [
    {
     "data": {
      "text/plain": [
       "Index([u'GWNO', u'EVENT_ID_CNTY', u'EVENT_ID_NO_CNTY', u'EVENT_DATE', u'YEAR',\n",
       "       u'TIME_PRECISION', u'EVENT_TYPE', u'ACTOR1', u'ALLY_ACTOR_1', u'INTER1',\n",
       "       u'ACTOR2', u'ALLY_ACTOR_2', u'INTER2', u'INTERACTION', u'COUNTRY',\n",
       "       u'ADMIN1', u'ADMIN2', u'ADMIN3', u'LOCATION', u'LATITUDE', u'LONGITUDE',\n",
       "       u'GEO_PRECISION', u'SOURCE', u'NOTES', u'FATALITIES'],\n",
       "      dtype='object')"
      ]
     },
     "execution_count": 6,
     "metadata": {},
     "output_type": "execute_result"
    }
   ],
   "source": [
    "df.columns"
   ]
  },
  {
   "cell_type": "code",
   "execution_count": 8,
   "metadata": {
    "collapsed": false
   },
   "outputs": [],
   "source": [
    "df_borno = df[df['COUNTRY']=='Nigeria']"
   ]
  },
  {
   "cell_type": "code",
   "execution_count": 10,
   "metadata": {
    "collapsed": false
   },
   "outputs": [],
   "source": [
    "df_borno = df_borno[df_borno['ADMIN1']=='Borno']"
   ]
  },
  {
   "cell_type": "code",
   "execution_count": null,
   "metadata": {
    "collapsed": false
   },
   "outputs": [],
   "source": []
  },
  {
   "cell_type": "code",
   "execution_count": 15,
   "metadata": {
    "collapsed": false
   },
   "outputs": [
    {
     "data": {
      "text/plain": [
       "16"
      ]
     },
     "execution_count": 15,
     "metadata": {},
     "output_type": "execute_result"
    }
   ],
   "source": [
    "len(df_borno[df_borno['GEO_PRECISION']==3])"
   ]
  },
  {
   "cell_type": "code",
   "execution_count": 48,
   "metadata": {
    "collapsed": true
   },
   "outputs": [],
   "source": [
    "import matplotlib.pyplot as plt\n",
    "%matplotlib inline\n",
    "pd.set_option('max_columns', None)"
   ]
  },
  {
   "cell_type": "code",
   "execution_count": 37,
   "metadata": {
    "collapsed": false
   },
   "outputs": [
    {
     "data": {
      "text/plain": [
       "<matplotlib.collections.PathCollection at 0x113a32590>"
      ]
     },
     "execution_count": 37,
     "metadata": {},
     "output_type": "execute_result"
    },
    {
     "data": {
      "image/png": "[encoded data removed]",
      "text/plain": [
       "<matplotlib.figure.Figure at 0x111bbdb10>"
      ]
     },
     "metadata": {},
     "output_type": "display_data"
    }
   ],
   "source": [
    "plt.scatter(lat, lon)"
   ]
  },
  {
   "cell_type": "code",
   "execution_count": 52,
   "metadata": {
    "collapsed": false
   },
   "outputs": [],
   "source": [
    "lat = df_borno['LATITUDE'].astype(float)"
   ]
  },
  {
   "cell_type": "code",
   "execution_count": 53,
   "metadata": {
    "collapsed": false
   },
   "outputs": [],
   "source": [
    "lon = df_borno['LONGITUDE'].astype(float)"
   ]
  },
  {
   "cell_type": "code",
   "execution_count": null,
   "metadata": {
    "collapsed": false
   },
   "outputs": [],
   "source": []
  },
  {
   "cell_type": "code",
   "execution_count": null,
   "metadata": {
    "collapsed": false
   },
   "outputs": [],
   "source": []
  },
  {
   "cell_type": "code",
   "execution_count": 38,
   "metadata": {
    "collapsed": true
   },
   "outputs": [],
   "source": [
    "import mplleaflet"
   ]
  },
  {
   "cell_type": "code",
   "execution_count": 65,
   "metadata": {
    "collapsed": false
   },
   "outputs": [],
   "source": [
    "plt.figure(figsize=(10,10))\n",
    "plt.scatter(lat, lon)\n",
    "mplleaflet.show()"
   ]
  },
  {
   "cell_type": "code",
   "execution_count": null,
   "metadata": {
    "collapsed": false
   },
   "outputs": [],
   "source": []
  },
  {
   "cell_type": "code",
   "execution_count": null,
   "metadata": {
    "collapsed": true
   },
   "outputs": [],
   "source": []
  }
 ],
 "metadata": {
  "kernelspec": {
   "display_name": "Python [Root]",
   "language": "python",
   "name": "Python [Root]"
  },
  "language_info": {
   "codemirror_mode": {
    "name": "ipython",
    "version": 2
   },
   "file_extension": ".py",
   "mimetype": "text/x-python",
   "name": "python",
   "nbconvert_exporter": "python",
   "pygments_lexer": "ipython2",
   "version": "2.7.9"
  }
 },
 "nbformat": 4,
 "nbformat_minor": 0
}
